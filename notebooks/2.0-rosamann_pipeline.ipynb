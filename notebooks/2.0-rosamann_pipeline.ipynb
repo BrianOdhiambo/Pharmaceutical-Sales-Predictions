{
 "cells": [
  {
   "cell_type": "markdown",
   "metadata": {
    "colab_type": "text",
    "id": "osxbWER76h7o"
   },
   "source": [
    "### Importing the necessary libraries"
   ]
  },
  {
   "cell_type": "code",
   "execution_count": 1,
   "metadata": {
    "colab": {},
    "colab_type": "code",
    "id": "p4FN_GkF6h8E"
   },
   "outputs": [],
   "source": [
    "import os\n",
    "import pandas as pd\n",
    "import numpy as np\n",
    "import matplotlib.pyplot as plt\n",
    "\n",
    "import warnings \n",
    "warnings.filterwarnings('ignore')\n",
    "\n",
    "from sklearn.preprocessing import LabelEncoder\n",
    "from sklearn.preprocessing import OneHotEncoder\n",
    "from sklearn.model_selection import train_test_split\n",
    "from sklearn.ensemble import RandomForestRegressor\n",
    "from sklearn.preprocessing import StandardScaler\n",
    "from sklearn.pipeline import Pipeline\n",
    "from sklearn.metrics import mean_squared_error\n",
    "from sklearn.model_selection import cross_val_score,cross_val_predict, KFold,train_test_split,GridSearchCV,RandomizedSearchCV"
   ]
  },
  {
   "cell_type": "markdown",
   "metadata": {
    "colab_type": "text",
    "id": "_LFdWJLh6h90"
   },
   "source": [
    "First, we need to import the path with the raw data"
   ]
  },
  {
   "cell_type": "markdown",
   "metadata": {
    "colab_type": "text",
    "id": "-ut5UPfI6h-s"
   },
   "source": [
    "Next, we import the data."
   ]
  },
  {
   "cell_type": "code",
   "execution_count": 106,
   "metadata": {
    "colab": {
     "base_uri": "https://localhost:8080/",
     "height": 34
    },
    "colab_type": "code",
    "id": "3wrHnOHjHYiy",
    "outputId": "71ee4e1e-d380-4b33-9926-16b12774b1fb"
   },
   "outputs": [
    {
     "name": "stdout",
     "output_type": "stream",
     "text": [
      "Drive already mounted at /content/gdrive/; to attempt to forcibly remount, call drive.mount(\"/content/gdrive/\", force_remount=True).\n"
     ]
    }
   ],
   "source": [
    "#from google.colab import drive\n",
    "#drive.mount('/content/gdrive/')"
   ]
  },
  {
   "cell_type": "code",
   "execution_count": 183,
   "metadata": {
    "colab": {},
    "colab_type": "code",
    "id": "duvO2ZopJwY6"
   },
   "outputs": [],
   "source": [
    "processed_test_store = pd.read_csv('/content/gdrive/My Drive/Documents/rossmann-store-sales/data/processed/processed_test_store_df.csv')\n",
    "processed_train_store = pd.read_csv('/content/gdrive/My Drive/Documents/rossmann-store-sales/data/processed/processed_train_store_df.csv')"
   ]
  },
  {
   "cell_type": "markdown",
   "metadata": {
    "colab_type": "text",
    "id": "qDf1XmbD6h_e"
   },
   "source": [
    "Let's have a look at how our data looks like."
   ]
  },
  {
   "cell_type": "code",
   "execution_count": 184,
   "metadata": {
    "colab": {
     "base_uri": "https://localhost:8080/",
     "height": 309
    },
    "colab_type": "code",
    "id": "9I17mtvlMvTB",
    "outputId": "daa81508-4d0c-41cf-ec68-743d93b7751e"
   },
   "outputs": [
    {
     "data": {
      "text/html": [
       "<div>\n",
       "<style scoped>\n",
       "    .dataframe tbody tr th:only-of-type {\n",
       "        vertical-align: middle;\n",
       "    }\n",
       "\n",
       "    .dataframe tbody tr th {\n",
       "        vertical-align: top;\n",
       "    }\n",
       "\n",
       "    .dataframe thead th {\n",
       "        text-align: right;\n",
       "    }\n",
       "</style>\n",
       "<table border=\"1\" class=\"dataframe\">\n",
       "  <thead>\n",
       "    <tr style=\"text-align: right;\">\n",
       "      <th></th>\n",
       "      <th>Id</th>\n",
       "      <th>Store</th>\n",
       "      <th>DayOfWeek</th>\n",
       "      <th>Date</th>\n",
       "      <th>Open</th>\n",
       "      <th>Promo</th>\n",
       "      <th>StateHoliday</th>\n",
       "      <th>SchoolHoliday</th>\n",
       "      <th>day</th>\n",
       "      <th>month</th>\n",
       "      <th>year</th>\n",
       "      <th>StoreType</th>\n",
       "      <th>Assortment</th>\n",
       "      <th>CompetitionDistance</th>\n",
       "      <th>CompetitionOpenSinceMonth</th>\n",
       "      <th>CompetitionOpenSinceYear</th>\n",
       "      <th>Promo2</th>\n",
       "      <th>Promo2SinceWeek</th>\n",
       "      <th>Promo2SinceYear</th>\n",
       "      <th>PromoInterval</th>\n",
       "    </tr>\n",
       "  </thead>\n",
       "  <tbody>\n",
       "    <tr>\n",
       "      <th>0</th>\n",
       "      <td>1</td>\n",
       "      <td>1</td>\n",
       "      <td>4</td>\n",
       "      <td>2015-09-17</td>\n",
       "      <td>1.0</td>\n",
       "      <td>1</td>\n",
       "      <td>o</td>\n",
       "      <td>0</td>\n",
       "      <td>17</td>\n",
       "      <td>9</td>\n",
       "      <td>2015</td>\n",
       "      <td>c</td>\n",
       "      <td>a</td>\n",
       "      <td>1270.0</td>\n",
       "      <td>9.0</td>\n",
       "      <td>2008.0</td>\n",
       "      <td>0</td>\n",
       "      <td>0.0</td>\n",
       "      <td>0.0</td>\n",
       "      <td>0</td>\n",
       "    </tr>\n",
       "    <tr>\n",
       "      <th>1</th>\n",
       "      <td>857</td>\n",
       "      <td>1</td>\n",
       "      <td>3</td>\n",
       "      <td>2015-09-16</td>\n",
       "      <td>1.0</td>\n",
       "      <td>1</td>\n",
       "      <td>o</td>\n",
       "      <td>0</td>\n",
       "      <td>16</td>\n",
       "      <td>9</td>\n",
       "      <td>2015</td>\n",
       "      <td>c</td>\n",
       "      <td>a</td>\n",
       "      <td>1270.0</td>\n",
       "      <td>9.0</td>\n",
       "      <td>2008.0</td>\n",
       "      <td>0</td>\n",
       "      <td>0.0</td>\n",
       "      <td>0.0</td>\n",
       "      <td>0</td>\n",
       "    </tr>\n",
       "    <tr>\n",
       "      <th>2</th>\n",
       "      <td>1713</td>\n",
       "      <td>1</td>\n",
       "      <td>2</td>\n",
       "      <td>2015-09-15</td>\n",
       "      <td>1.0</td>\n",
       "      <td>1</td>\n",
       "      <td>o</td>\n",
       "      <td>0</td>\n",
       "      <td>15</td>\n",
       "      <td>9</td>\n",
       "      <td>2015</td>\n",
       "      <td>c</td>\n",
       "      <td>a</td>\n",
       "      <td>1270.0</td>\n",
       "      <td>9.0</td>\n",
       "      <td>2008.0</td>\n",
       "      <td>0</td>\n",
       "      <td>0.0</td>\n",
       "      <td>0.0</td>\n",
       "      <td>0</td>\n",
       "    </tr>\n",
       "    <tr>\n",
       "      <th>3</th>\n",
       "      <td>2569</td>\n",
       "      <td>1</td>\n",
       "      <td>1</td>\n",
       "      <td>2015-09-14</td>\n",
       "      <td>1.0</td>\n",
       "      <td>1</td>\n",
       "      <td>o</td>\n",
       "      <td>0</td>\n",
       "      <td>14</td>\n",
       "      <td>9</td>\n",
       "      <td>2015</td>\n",
       "      <td>c</td>\n",
       "      <td>a</td>\n",
       "      <td>1270.0</td>\n",
       "      <td>9.0</td>\n",
       "      <td>2008.0</td>\n",
       "      <td>0</td>\n",
       "      <td>0.0</td>\n",
       "      <td>0.0</td>\n",
       "      <td>0</td>\n",
       "    </tr>\n",
       "    <tr>\n",
       "      <th>4</th>\n",
       "      <td>3425</td>\n",
       "      <td>1</td>\n",
       "      <td>7</td>\n",
       "      <td>2015-09-13</td>\n",
       "      <td>0.0</td>\n",
       "      <td>0</td>\n",
       "      <td>o</td>\n",
       "      <td>0</td>\n",
       "      <td>13</td>\n",
       "      <td>9</td>\n",
       "      <td>2015</td>\n",
       "      <td>c</td>\n",
       "      <td>a</td>\n",
       "      <td>1270.0</td>\n",
       "      <td>9.0</td>\n",
       "      <td>2008.0</td>\n",
       "      <td>0</td>\n",
       "      <td>0.0</td>\n",
       "      <td>0.0</td>\n",
       "      <td>0</td>\n",
       "    </tr>\n",
       "  </tbody>\n",
       "</table>\n",
       "</div>"
      ],
      "text/plain": [
       "     Id  Store  DayOfWeek  ... Promo2SinceWeek  Promo2SinceYear  PromoInterval\n",
       "0     1      1          4  ...             0.0              0.0              0\n",
       "1   857      1          3  ...             0.0              0.0              0\n",
       "2  1713      1          2  ...             0.0              0.0              0\n",
       "3  2569      1          1  ...             0.0              0.0              0\n",
       "4  3425      1          7  ...             0.0              0.0              0\n",
       "\n",
       "[5 rows x 20 columns]"
      ]
     },
     "execution_count": 184,
     "metadata": {
      "tags": []
     },
     "output_type": "execute_result"
    }
   ],
   "source": [
    "processed_test_store.head()"
   ]
  },
  {
   "cell_type": "code",
   "execution_count": 109,
   "metadata": {
    "colab": {
     "base_uri": "https://localhost:8080/",
     "height": 309
    },
    "colab_type": "code",
    "id": "Nlk0GSsIM43D",
    "outputId": "491ff8a0-a212-4bfc-a6bc-f2deeca411df"
   },
   "outputs": [
    {
     "data": {
      "text/html": [
       "<div>\n",
       "<style scoped>\n",
       "    .dataframe tbody tr th:only-of-type {\n",
       "        vertical-align: middle;\n",
       "    }\n",
       "\n",
       "    .dataframe tbody tr th {\n",
       "        vertical-align: top;\n",
       "    }\n",
       "\n",
       "    .dataframe thead th {\n",
       "        text-align: right;\n",
       "    }\n",
       "</style>\n",
       "<table border=\"1\" class=\"dataframe\">\n",
       "  <thead>\n",
       "    <tr style=\"text-align: right;\">\n",
       "      <th></th>\n",
       "      <th>Store</th>\n",
       "      <th>Date</th>\n",
       "      <th>day</th>\n",
       "      <th>month</th>\n",
       "      <th>year</th>\n",
       "      <th>DayOfWeek</th>\n",
       "      <th>WeekOfYear</th>\n",
       "      <th>Sales</th>\n",
       "      <th>Customers</th>\n",
       "      <th>Open</th>\n",
       "      <th>Promo</th>\n",
       "      <th>StateHoliday</th>\n",
       "      <th>SchoolHoliday</th>\n",
       "      <th>StoreType</th>\n",
       "      <th>Assortment</th>\n",
       "      <th>CompetitionDistance</th>\n",
       "      <th>CompetitionOpenSinceMonth</th>\n",
       "      <th>CompetitionOpenSinceYear</th>\n",
       "      <th>Promo2</th>\n",
       "      <th>Promo2SinceWeek</th>\n",
       "      <th>Promo2SinceYear</th>\n",
       "      <th>PromoInterval</th>\n",
       "      <th>SalePerCustomer</th>\n",
       "    </tr>\n",
       "  </thead>\n",
       "  <tbody>\n",
       "    <tr>\n",
       "      <th>0</th>\n",
       "      <td>1</td>\n",
       "      <td>2015-07-31</td>\n",
       "      <td>31</td>\n",
       "      <td>7</td>\n",
       "      <td>2015</td>\n",
       "      <td>5</td>\n",
       "      <td>31</td>\n",
       "      <td>5263</td>\n",
       "      <td>555</td>\n",
       "      <td>1</td>\n",
       "      <td>1</td>\n",
       "      <td>o</td>\n",
       "      <td>1</td>\n",
       "      <td>c</td>\n",
       "      <td>a</td>\n",
       "      <td>1270.0</td>\n",
       "      <td>9.0</td>\n",
       "      <td>2008.0</td>\n",
       "      <td>0</td>\n",
       "      <td>0.0</td>\n",
       "      <td>0.0</td>\n",
       "      <td>0</td>\n",
       "      <td>9.482883</td>\n",
       "    </tr>\n",
       "    <tr>\n",
       "      <th>1</th>\n",
       "      <td>1</td>\n",
       "      <td>2015-07-30</td>\n",
       "      <td>30</td>\n",
       "      <td>7</td>\n",
       "      <td>2015</td>\n",
       "      <td>4</td>\n",
       "      <td>31</td>\n",
       "      <td>5020</td>\n",
       "      <td>546</td>\n",
       "      <td>1</td>\n",
       "      <td>1</td>\n",
       "      <td>o</td>\n",
       "      <td>1</td>\n",
       "      <td>c</td>\n",
       "      <td>a</td>\n",
       "      <td>1270.0</td>\n",
       "      <td>9.0</td>\n",
       "      <td>2008.0</td>\n",
       "      <td>0</td>\n",
       "      <td>0.0</td>\n",
       "      <td>0.0</td>\n",
       "      <td>0</td>\n",
       "      <td>9.194139</td>\n",
       "    </tr>\n",
       "    <tr>\n",
       "      <th>2</th>\n",
       "      <td>1</td>\n",
       "      <td>2015-07-29</td>\n",
       "      <td>29</td>\n",
       "      <td>7</td>\n",
       "      <td>2015</td>\n",
       "      <td>3</td>\n",
       "      <td>31</td>\n",
       "      <td>4782</td>\n",
       "      <td>523</td>\n",
       "      <td>1</td>\n",
       "      <td>1</td>\n",
       "      <td>o</td>\n",
       "      <td>1</td>\n",
       "      <td>c</td>\n",
       "      <td>a</td>\n",
       "      <td>1270.0</td>\n",
       "      <td>9.0</td>\n",
       "      <td>2008.0</td>\n",
       "      <td>0</td>\n",
       "      <td>0.0</td>\n",
       "      <td>0.0</td>\n",
       "      <td>0</td>\n",
       "      <td>9.143403</td>\n",
       "    </tr>\n",
       "    <tr>\n",
       "      <th>3</th>\n",
       "      <td>1</td>\n",
       "      <td>2015-07-28</td>\n",
       "      <td>28</td>\n",
       "      <td>7</td>\n",
       "      <td>2015</td>\n",
       "      <td>2</td>\n",
       "      <td>31</td>\n",
       "      <td>5011</td>\n",
       "      <td>560</td>\n",
       "      <td>1</td>\n",
       "      <td>1</td>\n",
       "      <td>o</td>\n",
       "      <td>1</td>\n",
       "      <td>c</td>\n",
       "      <td>a</td>\n",
       "      <td>1270.0</td>\n",
       "      <td>9.0</td>\n",
       "      <td>2008.0</td>\n",
       "      <td>0</td>\n",
       "      <td>0.0</td>\n",
       "      <td>0.0</td>\n",
       "      <td>0</td>\n",
       "      <td>8.948214</td>\n",
       "    </tr>\n",
       "    <tr>\n",
       "      <th>4</th>\n",
       "      <td>1</td>\n",
       "      <td>2015-07-27</td>\n",
       "      <td>27</td>\n",
       "      <td>7</td>\n",
       "      <td>2015</td>\n",
       "      <td>1</td>\n",
       "      <td>31</td>\n",
       "      <td>6102</td>\n",
       "      <td>612</td>\n",
       "      <td>1</td>\n",
       "      <td>1</td>\n",
       "      <td>o</td>\n",
       "      <td>1</td>\n",
       "      <td>c</td>\n",
       "      <td>a</td>\n",
       "      <td>1270.0</td>\n",
       "      <td>9.0</td>\n",
       "      <td>2008.0</td>\n",
       "      <td>0</td>\n",
       "      <td>0.0</td>\n",
       "      <td>0.0</td>\n",
       "      <td>0</td>\n",
       "      <td>9.970588</td>\n",
       "    </tr>\n",
       "  </tbody>\n",
       "</table>\n",
       "</div>"
      ],
      "text/plain": [
       "   Store        Date  day  ...  Promo2SinceYear  PromoInterval  SalePerCustomer\n",
       "0      1  2015-07-31   31  ...              0.0              0         9.482883\n",
       "1      1  2015-07-30   30  ...              0.0              0         9.194139\n",
       "2      1  2015-07-29   29  ...              0.0              0         9.143403\n",
       "3      1  2015-07-28   28  ...              0.0              0         8.948214\n",
       "4      1  2015-07-27   27  ...              0.0              0         9.970588\n",
       "\n",
       "[5 rows x 23 columns]"
      ]
     },
     "execution_count": 109,
     "metadata": {
      "tags": []
     },
     "output_type": "execute_result"
    }
   ],
   "source": [
    "processed_train_store.head()"
   ]
  },
  {
   "cell_type": "code",
   "execution_count": 110,
   "metadata": {
    "colab": {
     "base_uri": "https://localhost:8080/",
     "height": 51
    },
    "colab_type": "code",
    "id": "g-qt7fp66iAz",
    "outputId": "7c021312-d4dc-4903-9e09-cbb162ed9dba"
   },
   "outputs": [
    {
     "name": "stdout",
     "output_type": "stream",
     "text": [
      "Shape of processed_train_store data is:  (844338, 23)\n",
      "Shape of processed_test_store data is:  (41088, 20)\n"
     ]
    }
   ],
   "source": [
    "print(\"Shape of processed_train_store data is: \",processed_train_store.shape)\n",
    "print(\"Shape of processed_test_store data is: \",processed_test_store.shape)"
   ]
  },
  {
   "cell_type": "code",
   "execution_count": 111,
   "metadata": {
    "colab": {
     "base_uri": "https://localhost:8080/",
     "height": 762
    },
    "colab_type": "code",
    "id": "He_HuGHr6iBR",
    "outputId": "3ebb126d-9a12-4d80-a078-bfbcb3d9882c"
   },
   "outputs": [
    {
     "data": {
      "text/html": [
       "<div>\n",
       "<style scoped>\n",
       "    .dataframe tbody tr th:only-of-type {\n",
       "        vertical-align: middle;\n",
       "    }\n",
       "\n",
       "    .dataframe tbody tr th {\n",
       "        vertical-align: top;\n",
       "    }\n",
       "\n",
       "    .dataframe thead th {\n",
       "        text-align: right;\n",
       "    }\n",
       "</style>\n",
       "<table border=\"1\" class=\"dataframe\">\n",
       "  <thead>\n",
       "    <tr style=\"text-align: right;\">\n",
       "      <th></th>\n",
       "      <th>Data_type</th>\n",
       "    </tr>\n",
       "  </thead>\n",
       "  <tbody>\n",
       "    <tr>\n",
       "      <th>Store</th>\n",
       "      <td>int64</td>\n",
       "    </tr>\n",
       "    <tr>\n",
       "      <th>Date</th>\n",
       "      <td>object</td>\n",
       "    </tr>\n",
       "    <tr>\n",
       "      <th>day</th>\n",
       "      <td>int64</td>\n",
       "    </tr>\n",
       "    <tr>\n",
       "      <th>month</th>\n",
       "      <td>int64</td>\n",
       "    </tr>\n",
       "    <tr>\n",
       "      <th>year</th>\n",
       "      <td>int64</td>\n",
       "    </tr>\n",
       "    <tr>\n",
       "      <th>DayOfWeek</th>\n",
       "      <td>int64</td>\n",
       "    </tr>\n",
       "    <tr>\n",
       "      <th>WeekOfYear</th>\n",
       "      <td>int64</td>\n",
       "    </tr>\n",
       "    <tr>\n",
       "      <th>Sales</th>\n",
       "      <td>int64</td>\n",
       "    </tr>\n",
       "    <tr>\n",
       "      <th>Customers</th>\n",
       "      <td>int64</td>\n",
       "    </tr>\n",
       "    <tr>\n",
       "      <th>Open</th>\n",
       "      <td>int64</td>\n",
       "    </tr>\n",
       "    <tr>\n",
       "      <th>Promo</th>\n",
       "      <td>int64</td>\n",
       "    </tr>\n",
       "    <tr>\n",
       "      <th>StateHoliday</th>\n",
       "      <td>object</td>\n",
       "    </tr>\n",
       "    <tr>\n",
       "      <th>SchoolHoliday</th>\n",
       "      <td>int64</td>\n",
       "    </tr>\n",
       "    <tr>\n",
       "      <th>StoreType</th>\n",
       "      <td>object</td>\n",
       "    </tr>\n",
       "    <tr>\n",
       "      <th>Assortment</th>\n",
       "      <td>object</td>\n",
       "    </tr>\n",
       "    <tr>\n",
       "      <th>CompetitionDistance</th>\n",
       "      <td>float64</td>\n",
       "    </tr>\n",
       "    <tr>\n",
       "      <th>CompetitionOpenSinceMonth</th>\n",
       "      <td>float64</td>\n",
       "    </tr>\n",
       "    <tr>\n",
       "      <th>CompetitionOpenSinceYear</th>\n",
       "      <td>float64</td>\n",
       "    </tr>\n",
       "    <tr>\n",
       "      <th>Promo2</th>\n",
       "      <td>int64</td>\n",
       "    </tr>\n",
       "    <tr>\n",
       "      <th>Promo2SinceWeek</th>\n",
       "      <td>float64</td>\n",
       "    </tr>\n",
       "    <tr>\n",
       "      <th>Promo2SinceYear</th>\n",
       "      <td>float64</td>\n",
       "    </tr>\n",
       "    <tr>\n",
       "      <th>PromoInterval</th>\n",
       "      <td>object</td>\n",
       "    </tr>\n",
       "    <tr>\n",
       "      <th>SalePerCustomer</th>\n",
       "      <td>float64</td>\n",
       "    </tr>\n",
       "  </tbody>\n",
       "</table>\n",
       "</div>"
      ],
      "text/plain": [
       "                          Data_type\n",
       "Store                         int64\n",
       "Date                         object\n",
       "day                           int64\n",
       "month                         int64\n",
       "year                          int64\n",
       "DayOfWeek                     int64\n",
       "WeekOfYear                    int64\n",
       "Sales                         int64\n",
       "Customers                     int64\n",
       "Open                          int64\n",
       "Promo                         int64\n",
       "StateHoliday                 object\n",
       "SchoolHoliday                 int64\n",
       "StoreType                    object\n",
       "Assortment                   object\n",
       "CompetitionDistance         float64\n",
       "CompetitionOpenSinceMonth   float64\n",
       "CompetitionOpenSinceYear    float64\n",
       "Promo2                        int64\n",
       "Promo2SinceWeek             float64\n",
       "Promo2SinceYear             float64\n",
       "PromoInterval                object\n",
       "SalePerCustomer             float64"
      ]
     },
     "execution_count": 111,
     "metadata": {
      "tags": []
     },
     "output_type": "execute_result"
    }
   ],
   "source": [
    "processed_train_store_dtypes = pd.DataFrame(processed_train_store.dtypes,\n",
    "                                            columns = [\"Data_type\"])\n",
    "processed_train_store_dtypes"
   ]
  },
  {
   "cell_type": "code",
   "execution_count": 112,
   "metadata": {
    "colab": {},
    "colab_type": "code",
    "id": "vS05H2px6iCU"
   },
   "outputs": [],
   "source": [
    "#Checking for the unique values\n",
    "unique_values = pd.DataFrame(columns=['Unique Values'])\n",
    "for x in list(processed_train_store.columns.values):\n",
    "    unique_values.loc[x] = [processed_train_store[x].nunique()]"
   ]
  },
  {
   "cell_type": "code",
   "execution_count": 113,
   "metadata": {
    "colab": {
     "base_uri": "https://localhost:8080/",
     "height": 762
    },
    "colab_type": "code",
    "id": "mlukHpzj6iCp",
    "outputId": "afcb34d4-808b-4698-cddb-e7fc35c7e423"
   },
   "outputs": [
    {
     "data": {
      "text/html": [
       "<div>\n",
       "<style scoped>\n",
       "    .dataframe tbody tr th:only-of-type {\n",
       "        vertical-align: middle;\n",
       "    }\n",
       "\n",
       "    .dataframe tbody tr th {\n",
       "        vertical-align: top;\n",
       "    }\n",
       "\n",
       "    .dataframe thead th {\n",
       "        text-align: right;\n",
       "    }\n",
       "</style>\n",
       "<table border=\"1\" class=\"dataframe\">\n",
       "  <thead>\n",
       "    <tr style=\"text-align: right;\">\n",
       "      <th></th>\n",
       "      <th>Unique Values</th>\n",
       "    </tr>\n",
       "  </thead>\n",
       "  <tbody>\n",
       "    <tr>\n",
       "      <th>Store</th>\n",
       "      <td>1115</td>\n",
       "    </tr>\n",
       "    <tr>\n",
       "      <th>Date</th>\n",
       "      <td>942</td>\n",
       "    </tr>\n",
       "    <tr>\n",
       "      <th>day</th>\n",
       "      <td>31</td>\n",
       "    </tr>\n",
       "    <tr>\n",
       "      <th>month</th>\n",
       "      <td>12</td>\n",
       "    </tr>\n",
       "    <tr>\n",
       "      <th>year</th>\n",
       "      <td>3</td>\n",
       "    </tr>\n",
       "    <tr>\n",
       "      <th>DayOfWeek</th>\n",
       "      <td>7</td>\n",
       "    </tr>\n",
       "    <tr>\n",
       "      <th>WeekOfYear</th>\n",
       "      <td>52</td>\n",
       "    </tr>\n",
       "    <tr>\n",
       "      <th>Sales</th>\n",
       "      <td>21733</td>\n",
       "    </tr>\n",
       "    <tr>\n",
       "      <th>Customers</th>\n",
       "      <td>4083</td>\n",
       "    </tr>\n",
       "    <tr>\n",
       "      <th>Open</th>\n",
       "      <td>1</td>\n",
       "    </tr>\n",
       "    <tr>\n",
       "      <th>Promo</th>\n",
       "      <td>2</td>\n",
       "    </tr>\n",
       "    <tr>\n",
       "      <th>StateHoliday</th>\n",
       "      <td>4</td>\n",
       "    </tr>\n",
       "    <tr>\n",
       "      <th>SchoolHoliday</th>\n",
       "      <td>2</td>\n",
       "    </tr>\n",
       "    <tr>\n",
       "      <th>StoreType</th>\n",
       "      <td>4</td>\n",
       "    </tr>\n",
       "    <tr>\n",
       "      <th>Assortment</th>\n",
       "      <td>3</td>\n",
       "    </tr>\n",
       "    <tr>\n",
       "      <th>CompetitionDistance</th>\n",
       "      <td>655</td>\n",
       "    </tr>\n",
       "    <tr>\n",
       "      <th>CompetitionOpenSinceMonth</th>\n",
       "      <td>13</td>\n",
       "    </tr>\n",
       "    <tr>\n",
       "      <th>CompetitionOpenSinceYear</th>\n",
       "      <td>24</td>\n",
       "    </tr>\n",
       "    <tr>\n",
       "      <th>Promo2</th>\n",
       "      <td>2</td>\n",
       "    </tr>\n",
       "    <tr>\n",
       "      <th>Promo2SinceWeek</th>\n",
       "      <td>25</td>\n",
       "    </tr>\n",
       "    <tr>\n",
       "      <th>Promo2SinceYear</th>\n",
       "      <td>8</td>\n",
       "    </tr>\n",
       "    <tr>\n",
       "      <th>PromoInterval</th>\n",
       "      <td>4</td>\n",
       "    </tr>\n",
       "    <tr>\n",
       "      <th>SalePerCustomer</th>\n",
       "      <td>651407</td>\n",
       "    </tr>\n",
       "  </tbody>\n",
       "</table>\n",
       "</div>"
      ],
      "text/plain": [
       "                          Unique Values\n",
       "Store                              1115\n",
       "Date                                942\n",
       "day                                  31\n",
       "month                                12\n",
       "year                                  3\n",
       "DayOfWeek                             7\n",
       "WeekOfYear                           52\n",
       "Sales                             21733\n",
       "Customers                          4083\n",
       "Open                                  1\n",
       "Promo                                 2\n",
       "StateHoliday                          4\n",
       "SchoolHoliday                         2\n",
       "StoreType                             4\n",
       "Assortment                            3\n",
       "CompetitionDistance                 655\n",
       "CompetitionOpenSinceMonth            13\n",
       "CompetitionOpenSinceYear             24\n",
       "Promo2                                2\n",
       "Promo2SinceWeek                      25\n",
       "Promo2SinceYear                       8\n",
       "PromoInterval                         4\n",
       "SalePerCustomer                  651407"
      ]
     },
     "execution_count": 113,
     "metadata": {
      "tags": []
     },
     "output_type": "execute_result"
    }
   ],
   "source": [
    "unique_values"
   ]
  },
  {
   "cell_type": "markdown",
   "metadata": {
    "colab_type": "text",
    "id": "FU1hi60J6iDJ"
   },
   "source": [
    "Since our data is preprocessed, next we are going to extract some useful features from the `Date` variable that will be useful in our modelling.\n",
    "* `Processed_train_store`\n",
    "since for this dataframe we had day ,month and year extracted, we will just extract the week,the quarter and the seaon."
   ]
  },
  {
   "cell_type": "code",
   "execution_count": 185,
   "metadata": {
    "colab": {},
    "colab_type": "code",
    "id": "x3kaJhDg6iDO"
   },
   "outputs": [],
   "source": [
    "#converting the 'Date' column  to date formate\n",
    "processed_train_store[\"Date\"] = pd.to_datetime(processed_train_store[\"Date\"],format = \"%Y-%m-%d\")"
   ]
  },
  {
   "cell_type": "code",
   "execution_count": 186,
   "metadata": {
    "colab": {},
    "colab_type": "code",
    "id": "pg0WfLEo6iEG"
   },
   "outputs": [],
   "source": [
    "'''\n",
    "We are going to consider for seasons;\n",
    "ab)Summer runs from June 1 to August 31;\n",
    "Fall (autumn) runs from September 1 to November 30; and\n",
    "Winter runs from December 1 to February 28 (February 29 in a leap year).\n",
    "'''\n",
    "#Extracting.\n",
    "processed_train_store[\"Week\"] = processed_train_store[\"Date\"].dt.week\n",
    "processed_train_store[\"Quarter\"] = processed_train_store[\"Date\"].dt.quarter\n",
    "processed_train_store[\"Season\"] = np.where(processed_train_store[\"month\"].isin([12,1,2]),\"Winter\",\n",
    "                                    np.where(processed_train_store[\"month\"].isin([6,7,8]),\"Summer\",\n",
    "                                    np.where(processed_train_store[\"month\"].isin([9,10,11]),\"Fall\",\n",
    "                                    np.where(processed_train_store[\"month\"].isin([3,4,5]),\"Spring\",\"None\"))))\n",
    "\n",
    "                                    #renaming the columns;\n",
    "processed_train_store.rename(columns = {\"year\":\"Year\",\"day\":\"Day\",\"month\":\"Month\"},inplace = True)\n",
    "\n",
    "#Creating new column from the above two\n",
    "processed_train_store['CompetitionOpenSince'] = np.where((processed_train_store['CompetitionOpenSinceMonth']==0) & (processed_train_store['CompetitionOpenSinceYear']==0) , \n",
    "                                                  0,(processed_train_store.Month - processed_train_store.CompetitionOpenSinceMonth) + \n",
    "                                                  (12 * (processed_train_store.Year - processed_train_store.CompetitionOpenSinceYear)) )"
   ]
  },
  {
   "cell_type": "code",
   "execution_count": 187,
   "metadata": {
    "colab": {},
    "colab_type": "code",
    "id": "1NsDa5HjW_sz"
   },
   "outputs": [],
   "source": [
    "#deleting date column as we hawe month, year and day from it\n",
    "del processed_train_store[\"Date\"]"
   ]
  },
  {
   "cell_type": "code",
   "execution_count": 188,
   "metadata": {
    "colab": {
     "base_uri": "https://localhost:8080/",
     "height": 136
    },
    "colab_type": "code",
    "id": "PQ-n3u0eXEvL",
    "outputId": "c8ae2e59-4ba4-432e-bf11-03e3f84ad4bd"
   },
   "outputs": [
    {
     "data": {
      "text/plain": [
       "Index(['Store', 'Day', 'Month', 'Year', 'DayOfWeek', 'WeekOfYear', 'Sales',\n",
       "       'Customers', 'Open', 'Promo', 'StateHoliday', 'SchoolHoliday',\n",
       "       'StoreType', 'Assortment', 'CompetitionDistance',\n",
       "       'CompetitionOpenSinceMonth', 'CompetitionOpenSinceYear', 'Promo2',\n",
       "       'Promo2SinceWeek', 'Promo2SinceYear', 'PromoInterval',\n",
       "       'SalePerCustomer', 'Week', 'Quarter', 'Season', 'CompetitionOpenSince'],\n",
       "      dtype='object')"
      ]
     },
     "execution_count": 188,
     "metadata": {
      "tags": []
     },
     "output_type": "execute_result"
    }
   ],
   "source": [
    "processed_train_store.columns"
   ]
  },
  {
   "cell_type": "code",
   "execution_count": 189,
   "metadata": {
    "colab": {},
    "colab_type": "code",
    "id": "3sdyrlfxNeOK"
   },
   "outputs": [],
   "source": [
    "processed_train_store['StateHoliday'] = processed_train_store['StateHoliday'].astype('category')\n",
    "processed_train_store['Assortment'] = processed_train_store['Assortment'].astype('category')\n",
    "processed_train_store['StoreType'] = processed_train_store['StoreType'].astype('category')\n",
    "processed_train_store['PromoInterval']= processed_train_store['PromoInterval'].astype('category')\n",
    "processed_train_store['Season']= processed_train_store['Season'].astype('category')"
   ]
  },
  {
   "cell_type": "code",
   "execution_count": 190,
   "metadata": {
    "colab": {},
    "colab_type": "code",
    "id": "Eh85WFPmN7UJ"
   },
   "outputs": [],
   "source": [
    "processed_train_store['StateHoliday_cat'] = processed_train_store['StateHoliday'].cat.codes\n",
    "processed_train_store['Assortment_cat'] = processed_train_store['Assortment'].cat.codes\n",
    "processed_train_store['StoreType_cat'] = processed_train_store['StoreType'].cat.codes\n",
    "processed_train_store['PromoInterval_cat'] = processed_train_store['PromoInterval'].cat.codes\n",
    "processed_train_store['Season_cat'] = processed_train_store['Season'].cat.codes"
   ]
  },
  {
   "cell_type": "code",
   "execution_count": 191,
   "metadata": {
    "colab": {
     "base_uri": "https://localhost:8080/",
     "height": 561
    },
    "colab_type": "code",
    "id": "2Snp_ZdpN78r",
    "outputId": "8c645109-bdd5-4a02-a234-090cfe3a90b3"
   },
   "outputs": [
    {
     "data": {
      "text/plain": [
       "Store                           int64\n",
       "Day                             int64\n",
       "Month                           int64\n",
       "Year                            int64\n",
       "DayOfWeek                       int64\n",
       "WeekOfYear                      int64\n",
       "Sales                           int64\n",
       "Customers                       int64\n",
       "Open                            int64\n",
       "Promo                           int64\n",
       "StateHoliday                 category\n",
       "SchoolHoliday                   int64\n",
       "StoreType                    category\n",
       "Assortment                   category\n",
       "CompetitionDistance           float64\n",
       "CompetitionOpenSinceMonth     float64\n",
       "CompetitionOpenSinceYear      float64\n",
       "Promo2                          int64\n",
       "Promo2SinceWeek               float64\n",
       "Promo2SinceYear               float64\n",
       "PromoInterval                category\n",
       "SalePerCustomer               float64\n",
       "Week                            int64\n",
       "Quarter                         int64\n",
       "Season                       category\n",
       "CompetitionOpenSince          float64\n",
       "StateHoliday_cat              float64\n",
       "Assortment_cat                float64\n",
       "StoreType_cat                 float64\n",
       "PromoInterval_cat             float64\n",
       "Season_cat                    float64\n",
       "dtype: object"
      ]
     },
     "execution_count": 191,
     "metadata": {
      "tags": []
     },
     "output_type": "execute_result"
    }
   ],
   "source": [
    "processed_train_store['StateHoliday_cat'] = processed_train_store['StateHoliday_cat'].astype('float')\n",
    "processed_train_store['Assortment_cat'] = processed_train_store['Assortment_cat'].astype('float')\n",
    "processed_train_store['StoreType_cat'] = processed_train_store['StoreType_cat'].astype('float')\n",
    "processed_train_store['PromoInterval_cat'] = processed_train_store['PromoInterval_cat'].astype('float')\n",
    "processed_train_store['Season_cat'] = processed_train_store['Season_cat'].astype('float')\n",
    "processed_train_store.dtypes"
   ]
  },
  {
   "cell_type": "code",
   "execution_count": 192,
   "metadata": {
    "colab": {},
    "colab_type": "code",
    "id": "N58RAUazO8_H"
   },
   "outputs": [],
   "source": [
    "#now that CompetitionOpenSince is created \n",
    "#we can get rid of `CompetitionOpenSinceYear` and `CompeitionOpenSinceMonth`\n",
    "del processed_train_store['CompetitionOpenSinceYear']\n",
    "del processed_train_store['CompetitionOpenSinceMonth']"
   ]
  },
  {
   "cell_type": "code",
   "execution_count": 193,
   "metadata": {
    "colab": {},
    "colab_type": "code",
    "id": "n7X31lYsPK94"
   },
   "outputs": [],
   "source": [
    "#Changing stateholiday column to a binary variable\n",
    "processed_train_store[\"is_holiday_state\"] = processed_train_store['StateHoliday'].map({\"o\": 0, \"a\": 1, \"b\": 1, \"c\": 1})"
   ]
  },
  {
   "cell_type": "code",
   "execution_count": 194,
   "metadata": {
    "colab": {},
    "colab_type": "code",
    "id": "wppWMBaoPnMF"
   },
   "outputs": [],
   "source": [
    "#changing categorical variables into dummies \n",
    "processed_train_store=pd.get_dummies(processed_train_store, columns=[\"Assortment\", \"StoreType\",\"PromoInterval\",\"Season\"],\n",
    "                              prefix=[\"is_Assortment\", \"is_StoreType\",\"is_PromoInteval\",\"is_Season\"])"
   ]
  },
  {
   "cell_type": "code",
   "execution_count": 195,
   "metadata": {
    "colab": {
     "base_uri": "https://localhost:8080/",
     "height": 204
    },
    "colab_type": "code",
    "id": "BNu2VMqJPT8C",
    "outputId": "36ea28ee-2710-418c-d30d-9f2b953378fa"
   },
   "outputs": [
    {
     "data": {
      "text/plain": [
       "Index(['Store', 'Day', 'Month', 'Year', 'DayOfWeek', 'WeekOfYear', 'Sales',\n",
       "       'Customers', 'Open', 'Promo', 'SchoolHoliday', 'CompetitionDistance',\n",
       "       'Promo2', 'Promo2SinceWeek', 'Promo2SinceYear', 'SalePerCustomer',\n",
       "       'Week', 'Quarter', 'CompetitionOpenSince', 'is_holiday_state',\n",
       "       'is_Assortment_a', 'is_Assortment_b', 'is_Assortment_c',\n",
       "       'is_StoreType_a', 'is_StoreType_b', 'is_StoreType_c', 'is_StoreType_d',\n",
       "       'is_PromoInteval_0', 'is_PromoInteval_Feb,May,Aug,Nov',\n",
       "       'is_PromoInteval_Jan,Apr,Jul,Oct', 'is_PromoInteval_Mar,Jun,Sept,Dec',\n",
       "       'is_Season_Fall', 'is_Season_Spring', 'is_Season_Summer',\n",
       "       'is_Season_Winter'],\n",
       "      dtype='object')"
      ]
     },
     "execution_count": 195,
     "metadata": {
      "tags": []
     },
     "output_type": "execute_result"
    }
   ],
   "source": [
    "del processed_train_store['StateHoliday']\n",
    "del processed_train_store['Assortment_cat']\n",
    "del processed_train_store['StoreType_cat']\n",
    "del processed_train_store['PromoInterval_cat']\n",
    "del processed_train_store['Season_cat']\n",
    "del processed_train_store['StateHoliday_cat']\n",
    "processed_train_store.columns"
   ]
  },
  {
   "cell_type": "markdown",
   "metadata": {
    "colab_type": "text",
    "id": "RCZGJzGM6iFJ"
   },
   "source": [
    "* `Processed_test_store`\n",
    "since for this dataframe we had day ,month and year extracted, we will just extract the week,the quarter and the seaon."
   ]
  },
  {
   "cell_type": "code",
   "execution_count": 196,
   "metadata": {
    "colab": {},
    "colab_type": "code",
    "id": "Ro7QFZss6iFM"
   },
   "outputs": [],
   "source": [
    "processed_test_store.rename(columns = {\"year\":\"Year\",\"day\":\"Day\",\"month\":\"Month\"},inplace = True)"
   ]
  },
  {
   "cell_type": "code",
   "execution_count": 197,
   "metadata": {
    "colab": {},
    "colab_type": "code",
    "id": "6Ac24eWK6iFd"
   },
   "outputs": [],
   "source": [
    "#converting the 'Date' column  to date formate\n",
    "processed_test_store[\"Date\"] = pd.to_datetime(processed_test_store[\"Date\"],format = \"%Y-%m-%d\")"
   ]
  },
  {
   "cell_type": "code",
   "execution_count": 198,
   "metadata": {
    "colab": {},
    "colab_type": "code",
    "id": "GC3vXl0F6iGY"
   },
   "outputs": [],
   "source": [
    "'''\n",
    "We are going to consider for seasons;\n",
    "ab)Summer runs from June 1 to August 31;\n",
    "Fall (autumn) runs from September 1 to November 30; and\n",
    "Winter runs from December 1 to February 28 (February 29 in a leap year).\n",
    "'''\n",
    "#Extracting.\n",
    "processed_test_store[\"Week\"] = processed_test_store[\"Date\"].dt.week\n",
    "processed_test_store[\"Quarter\"] = processed_test_store[\"Date\"].dt.quarter\n",
    "processed_test_store[\"Season\"] = np.where(processed_test_store[\"Month\"].isin([12,1,2]),\"Winter\",\n",
    "                                    np.where(processed_test_store[\"Month\"].isin([6,7,8]),\"Summer\",\n",
    "                                    np.where(processed_test_store[\"Month\"].isin([9,10,11]),\"Fall\",\n",
    "                                    np.where(processed_test_store[\"Month\"].isin([3,4,5]),\"Spring\",\"None\"))))\n",
    "\n",
    "processed_test_store['StateHoliday'] = processed_test_store['StateHoliday'].astype('category')\n",
    "processed_test_store['Assortment'] = processed_test_store['Assortment'].astype('category')\n",
    "processed_test_store['StoreType'] = processed_test_store['StoreType'].astype('category')\n",
    "processed_test_store['PromoInterval']= processed_test_store['PromoInterval'].astype('category')\n",
    "processed_test_store['Season']= processed_test_store['Season'].astype('category')\n",
    "\n",
    "processed_test_store['StateHoliday_cat'] = processed_test_store['StateHoliday'].cat.codes\n",
    "processed_test_store['Assortment_cat'] = processed_test_store['Assortment'].cat.codes\n",
    "processed_test_store['StoreType_cat'] = processed_test_store['StoreType'].cat.codes\n",
    "processed_test_store['PromoInterval_cat'] = processed_test_store['PromoInterval'].cat.codes\n",
    "processed_test_store['Season_cat'] = processed_test_store['Season'].cat.codes\n",
    "\n",
    "processed_test_store['StateHoliday_cat'] = processed_test_store['StateHoliday_cat'].astype('float')\n",
    "processed_test_store['Assortment_cat'] = processed_test_store['Assortment_cat'].astype('float')\n",
    "processed_test_store['StoreType_cat'] = processed_test_store['StoreType_cat'].astype('float')\n",
    "processed_test_store['PromoInterval_cat'] = processed_test_store['PromoInterval_cat'].astype('float')\n",
    "processed_test_store['Season_cat'] = processed_test_store['Season_cat'].astype('float')\n",
    "\n",
    "\n",
    "processed_test_store['CompetitionOpenSince'] = np.where((processed_test_store['CompetitionOpenSinceMonth']==0) & \n",
    "                                                 (processed_test_store['CompetitionOpenSinceYear']==0) , 0,\n",
    "                                                 (processed_test_store.Month - processed_test_store.CompetitionOpenSinceMonth) + \n",
    "                                       (12 * (processed_test_store.Year - processed_test_store.CompetitionOpenSinceYear)) )\n",
    "\n",
    "\n",
    "\n",
    "processed_test_store[\"is_holiday_state\"] = processed_test_store['StateHoliday'].map({\"o\": 0, \"a\": 1, \"b\": 1, \"c\": 1})\n",
    "\n",
    "\n",
    "\n",
    "\n",
    "processed_test_store=pd.get_dummies(processed_test_store, columns=[\"Assortment\", \"StoreType\",\"PromoInterval\",\"Season\"], \n",
    "                             prefix=[\"is_Assortment\", \"is_StoreType\",\"is_PromoInteval\",\"is_Season\"])\n"
   ]
  },
  {
   "cell_type": "code",
   "execution_count": 199,
   "metadata": {
    "colab": {},
    "colab_type": "code",
    "id": "xXKwK--L6iGx"
   },
   "outputs": [],
   "source": [
    "del processed_test_store[\"Date\"]\n",
    "del processed_test_store['CompetitionOpenSinceYear']\n",
    "del processed_test_store['CompetitionOpenSinceMonth']\n",
    "del processed_test_store['StateHoliday_cat']\n",
    "del processed_test_store['Assortment_cat']\n",
    "del processed_test_store['StoreType_cat']\n",
    "del processed_test_store['PromoInterval_cat']\n",
    "del processed_test_store['StateHoliday']\n",
    "del processed_test_store['Season_cat']"
   ]
  },
  {
   "cell_type": "code",
   "execution_count": 202,
   "metadata": {
    "colab": {},
    "colab_type": "code",
    "id": "ekSk0mQO0fH-"
   },
   "outputs": [],
   "source": [
    "del processed_train_store['WeekOfYear']"
   ]
  },
  {
   "cell_type": "markdown",
   "metadata": {
    "colab_type": "text",
    "id": "vOjU39-9ZYwc"
   },
   "source": [
    "**Developing The Model**\n",
    "\n",
    "In this section of the project, I will develop a randomforestregressor training . Then ,we will make accurate evaluations of each model's performance (RandomForestRegressor vs XGBoostRegressor) through the use of the sklearn library which will help me evaluate which model is more suitable"
   ]
  },
  {
   "cell_type": "markdown",
   "metadata": {
    "colab_type": "text",
    "id": "w754XC9DpfHR"
   },
   "source": [
    "**Defining a Performance Metric**"
   ]
  },
  {
   "cell_type": "code",
   "execution_count": 203,
   "metadata": {
    "colab": {},
    "colab_type": "code",
    "id": "PCVyt4iW6iLL"
   },
   "outputs": [],
   "source": [
    "'''\n",
    "For this project, we will use the rmspe(Root Mean Square Percentage Error) score provided as an evaluation metric for the model\n",
    "'''\n",
    "def rmspe(y, yhat):\n",
    "    rmspe = np.sqrt(np.mean( (y - yhat)**2 ))\n",
    "    return rmspe"
   ]
  },
  {
   "cell_type": "markdown",
   "metadata": {
    "colab_type": "text",
    "id": "yY3BqS8LxN1D"
   },
   "source": [
    "Now we define the features and the target variable."
   ]
  },
  {
   "cell_type": "code",
   "execution_count": 204,
   "metadata": {
    "colab": {},
    "colab_type": "code",
    "id": "9g6icrPNSdlN"
   },
   "outputs": [],
   "source": [
    "'''\n",
    "a rule of thumb is to transform my target value to log if i see the values are very dispersed which is the case\n",
    "and then of course revert them with np.exp to their real values\n",
    "'''\n",
    "\n",
    "features = processed_train_store.drop(['Customers', 'Sales', 'SalePerCustomer'], axis = 1) \n",
    "targets=np.log(processed_train_store.Sales)"
   ]
  },
  {
   "cell_type": "markdown",
   "metadata": {
    "colab_type": "text",
    "id": "NF1pp6WbcMc9"
   },
   "source": [
    "Next we split the data for testing the model on a small part of the dataset.We call here train_test set which is usually divided 80% training and 20% validation."
   ]
  },
  {
   "cell_type": "code",
   "execution_count": 205,
   "metadata": {
    "colab": {},
    "colab_type": "code",
    "id": "Lo3qbolQ6iMA"
   },
   "outputs": [],
   "source": [
    "from sklearn import model_selection\n",
    "X_train, X_train_test, y_train, y_train_test = model_selection.train_test_split(features, targets, test_size=0.20, random_state=15)"
   ]
  },
  {
   "cell_type": "code",
   "execution_count": 206,
   "metadata": {
    "colab": {},
    "colab_type": "code",
    "id": "McNnsaS4r__d"
   },
   "outputs": [],
   "source": [
    "X_train.is_holiday_state.fillna(0,inplace=True)\n",
    "X_train_test.is_holiday_state.fillna(0,inplace=True)\n"
   ]
  },
  {
   "cell_type": "code",
   "execution_count": 207,
   "metadata": {
    "colab": {
     "base_uri": "https://localhost:8080/",
     "height": 561
    },
    "colab_type": "code",
    "id": "KqUXus_QsvZN",
    "outputId": "cf512942-1a39-4a9f-b272-43f368e32045"
   },
   "outputs": [
    {
     "data": {
      "text/plain": [
       "Store                               0\n",
       "Day                                 0\n",
       "Month                               0\n",
       "Year                                0\n",
       "DayOfWeek                           0\n",
       "Open                                0\n",
       "Promo                               0\n",
       "SchoolHoliday                       0\n",
       "CompetitionDistance                 0\n",
       "Promo2                              0\n",
       "Promo2SinceWeek                     0\n",
       "Promo2SinceYear                     0\n",
       "Week                                0\n",
       "Quarter                             0\n",
       "CompetitionOpenSince                0\n",
       "is_holiday_state                    0\n",
       "is_Assortment_a                     0\n",
       "is_Assortment_b                     0\n",
       "is_Assortment_c                     0\n",
       "is_StoreType_a                      0\n",
       "is_StoreType_b                      0\n",
       "is_StoreType_c                      0\n",
       "is_StoreType_d                      0\n",
       "is_PromoInteval_0                   0\n",
       "is_PromoInteval_Feb,May,Aug,Nov     0\n",
       "is_PromoInteval_Jan,Apr,Jul,Oct     0\n",
       "is_PromoInteval_Mar,Jun,Sept,Dec    0\n",
       "is_Season_Fall                      0\n",
       "is_Season_Spring                    0\n",
       "is_Season_Summer                    0\n",
       "is_Season_Winter                    0\n",
       "dtype: int64"
      ]
     },
     "execution_count": 207,
     "metadata": {
      "tags": []
     },
     "output_type": "execute_result"
    }
   ],
   "source": [
    "X_train_test.isna().sum()"
   ]
  },
  {
   "cell_type": "code",
   "execution_count": 208,
   "metadata": {
    "colab": {
     "base_uri": "https://localhost:8080/",
     "height": 561
    },
    "colab_type": "code",
    "id": "W0ysbPjYx0zq",
    "outputId": "4da0dc49-d2ec-437d-df8f-0a28f88f0609"
   },
   "outputs": [
    {
     "data": {
      "text/plain": [
       "Store                                 int64\n",
       "Day                                   int64\n",
       "Month                                 int64\n",
       "Year                                  int64\n",
       "DayOfWeek                             int64\n",
       "Open                                  int64\n",
       "Promo                                 int64\n",
       "SchoolHoliday                         int64\n",
       "CompetitionDistance                 float64\n",
       "Promo2                                int64\n",
       "Promo2SinceWeek                     float64\n",
       "Promo2SinceYear                     float64\n",
       "Week                                  int64\n",
       "Quarter                               int64\n",
       "CompetitionOpenSince                float64\n",
       "is_holiday_state                      int64\n",
       "is_Assortment_a                       uint8\n",
       "is_Assortment_b                       uint8\n",
       "is_Assortment_c                       uint8\n",
       "is_StoreType_a                        uint8\n",
       "is_StoreType_b                        uint8\n",
       "is_StoreType_c                        uint8\n",
       "is_StoreType_d                        uint8\n",
       "is_PromoInteval_0                     uint8\n",
       "is_PromoInteval_Feb,May,Aug,Nov       uint8\n",
       "is_PromoInteval_Jan,Apr,Jul,Oct       uint8\n",
       "is_PromoInteval_Mar,Jun,Sept,Dec      uint8\n",
       "is_Season_Fall                        uint8\n",
       "is_Season_Spring                      uint8\n",
       "is_Season_Summer                      uint8\n",
       "is_Season_Winter                      uint8\n",
       "dtype: object"
      ]
     },
     "execution_count": 208,
     "metadata": {
      "tags": []
     },
     "output_type": "execute_result"
    }
   ],
   "source": [
    "X_train_test.dtypes\n"
   ]
  },
  {
   "cell_type": "markdown",
   "metadata": {
    "colab_type": "text",
    "id": "BF8jVxWWaQEX"
   },
   "source": [
    "Training with RandomForest Regressor:\n",
    "Definition: \n",
    "RandomForest is a machine learning alogrithm used for classification and regression that is bestly used with structured and tabular data."
   ]
  },
  {
   "cell_type": "code",
   "execution_count": 209,
   "metadata": {
    "colab": {
     "base_uri": "https://localhost:8080/",
     "height": 136
    },
    "colab_type": "code",
    "id": "r1JhmaHC6iN-",
    "outputId": "af179621-4405-4ca8-e5e7-869d8880d458"
   },
   "outputs": [
    {
     "data": {
      "text/plain": [
       "RandomForestRegressor(bootstrap=True, ccp_alpha=0.0, criterion='mse',\n",
       "                      max_depth=5, max_features='auto', max_leaf_nodes=None,\n",
       "                      max_samples=None, min_impurity_decrease=0.0,\n",
       "                      min_impurity_split=None, min_samples_leaf=1,\n",
       "                      min_samples_split=2, min_weight_fraction_leaf=0.0,\n",
       "                      n_estimators=10, n_jobs=4, oob_score=False,\n",
       "                      random_state=31, verbose=0, warm_start=False)"
      ]
     },
     "execution_count": 209,
     "metadata": {
      "tags": []
     },
     "output_type": "execute_result"
    }
   ],
   "source": [
    "#Define model\n",
    "rfr = RandomForestRegressor(n_estimators=10, \n",
    "                             criterion='mse', \n",
    "                             max_depth=5, \n",
    "                             min_samples_split=2, \n",
    "                             min_samples_leaf=1, \n",
    "                             min_weight_fraction_leaf=0.0, \n",
    "                             max_features='auto', \n",
    "                             max_leaf_nodes=None, \n",
    "                             min_impurity_decrease=0.0, \n",
    "                             min_impurity_split=None, \n",
    "                             bootstrap=True, \n",
    "                             oob_score=False,\n",
    "                             n_jobs=4,\n",
    "                             random_state=31, \n",
    "                             verbose=0, \n",
    "                             warm_start=False)\n",
    "rfr.fit(X_train, y_train)"
   ]
  },
  {
   "cell_type": "markdown",
   "metadata": {
    "colab_type": "text",
    "id": "Hk4Lcfd1achL"
   },
   "source": [
    "Testing our RF on the validation set;"
   ]
  },
  {
   "cell_type": "code",
   "execution_count": 211,
   "metadata": {
    "colab": {},
    "colab_type": "code",
    "id": "9bORMzhZ6iOT"
   },
   "outputs": [],
   "source": [
    "#training using cross validation set\n",
    "rfr_val=RandomForestRegressor(n_estimators=128, \n",
    "                             criterion='mse', \n",
    "                             max_depth=20, \n",
    "                             min_samples_split=10, \n",
    "                             min_samples_leaf=1, \n",
    "                             min_weight_fraction_leaf=0.0, \n",
    "                             max_features='auto', \n",
    "                             max_leaf_nodes=None, \n",
    "                             min_impurity_decrease=0.0, \n",
    "                             min_impurity_split=None, \n",
    "                             bootstrap=True, \n",
    "                             oob_score=False,\n",
    "                             n_jobs=4, #setting n_jobs to 4 makes sure you're using the full potential of the machine you're running the training on\n",
    "                             random_state=35, \n",
    "                             verbose=0, \n",
    "                             warm_start=False)\n",
    "model_RF_test=rfr_val.fit(X_train,y_train)"
   ]
  },
  {
   "cell_type": "markdown",
   "metadata": {
    "colab_type": "text",
    "id": "LiYRKS45gyBs"
   },
   "source": [
    "Predicting our model;"
   ]
  },
  {
   "cell_type": "code",
   "execution_count": 213,
   "metadata": {
    "colab": {},
    "colab_type": "code",
    "id": "s9iBjMwZ6iOo"
   },
   "outputs": [],
   "source": [
    "yhat=model_RF_test.predict(X_train_test)"
   ]
  },
  {
   "cell_type": "markdown",
   "metadata": {
    "colab_type": "text",
    "id": "N-AhEubs2Mnq"
   },
   "source": [
    "plotting;"
   ]
  },
  {
   "cell_type": "code",
   "execution_count": 214,
   "metadata": {
    "colab": {
     "base_uri": "https://localhost:8080/",
     "height": 367
    },
    "colab_type": "code",
    "id": "wLib4WyS130e",
    "outputId": "9520eaea-67b9-4f9d-9095-18445cebada9"
   },
   "outputs": [
    {
     "data": {
      "text/plain": [
       "(array([2.7000e+01, 2.6500e+02, 9.9900e+02, 6.1090e+03, 2.9496e+04,\n",
       "        7.3368e+04, 4.6984e+04, 9.6920e+03, 1.8480e+03, 8.0000e+01]),\n",
       " array([ 6.53881147,  6.93174923,  7.324687  ,  7.71762476,  8.11056252,\n",
       "         8.50350028,  8.89643805,  9.28937581,  9.68231357, 10.07525133,\n",
       "        10.4681891 ]),\n",
       " <a list of 10 Patch objects>)"
      ]
     },
     "execution_count": 214,
     "metadata": {
      "tags": []
     },
     "output_type": "execute_result"
    },
    {
     "data": {
      "image/png": "[encoded data removed]",
      "text/plain": [
       "<Figure size 432x288 with 1 Axes>"
      ]
     },
     "metadata": {
      "needs_background": "light",
      "tags": []
     },
     "output_type": "display_data"
    }
   ],
   "source": [
    "plt.hist(yhat)"
   ]
  },
  {
   "cell_type": "markdown",
   "metadata": {
    "colab_type": "text",
    "id": "gaESWn7w2KD-"
   },
   "source": [
    "Getting the loss function;"
   ]
  },
  {
   "cell_type": "code",
   "execution_count": 215,
   "metadata": {
    "colab": {
     "base_uri": "https://localhost:8080/",
     "height": 35
    },
    "colab_type": "code",
    "id": "nuUYgBaN2aE_",
    "outputId": "add8168b-a889-4246-f089-197e5794c2a7"
   },
   "outputs": [
    {
     "data": {
      "application/vnd.google.colaboratory.intrinsic+json": {
       "type": "string"
      },
      "text/plain": [
       "'The number is 0.164'"
      ]
     },
     "execution_count": 215,
     "metadata": {
      "tags": []
     },
     "output_type": "execute_result"
    }
   ],
   "source": [
    "error=rmspe(y_train_test,yhat)\n",
    "\n",
    "f\"The number is {error:.3f}\""
   ]
  },
  {
   "cell_type": "markdown",
   "metadata": {
    "colab_type": "text",
    "id": "1iXaRYR72d0w"
   },
   "source": [
    "0.164 is trustworthy to be sure about the predictions of our model."
   ]
  },
  {
   "cell_type": "markdown",
   "metadata": {
    "colab_type": "text",
    "id": "tB0Iiv-8g7Mx"
   },
   "source": [
    "**Feature Importance**\n",
    "\n",
    "feature importance gives us the opportunity to analyse what contributed to the accuracy of the model and what features were just noise. With this information we can check that the model is working as we would expect, discard features if we feel they are not adding any value and use it to hypothesis about new features that we could engineer for another iteration of the model."
   ]
  },
  {
   "cell_type": "code",
   "execution_count": 230,
   "metadata": {
    "colab": {},
    "colab_type": "code",
    "id": "yQLDnDTc-qIW"
   },
   "outputs": [],
   "source": [
    "def plot_feature_importance(importance,names,model_type):\n",
    "\n",
    "#Create arrays from feature importance and feature names\n",
    "  feature_importance = np.array(importance)\n",
    "  feature_names = np.array(names)\n",
    "\n",
    "#Create a DataFrame using a Dictionary\n",
    "  data={'feature_names':feature_names,'feature_importance':feature_importance}\n",
    "  fi_df = pd.DataFrame(data)\n",
    "\n",
    "#Sort the DataFrame in order decreasing feature importance\n",
    "  fi_df.sort_values(by=['feature_importance'], ascending=False,inplace=True)\n",
    "\n",
    "#Define size of bar plot\n",
    "  plt.figure(figsize=(10,8))\n",
    "#Plot Searborn bar chart\n",
    "  sns.barplot(x=fi_df['feature_importance'], y=fi_df['feature_names'])\n",
    "#Add chart labels\n",
    "  plt.title(model_type + 'FEATURE IMPORTANCE')\n",
    "  plt.xlabel('FEATURE IMPORTANCE')\n",
    "  plt.ylabel('FEATURE NAMES')\n"
   ]
  },
  {
   "cell_type": "markdown",
   "metadata": {
    "colab_type": "text",
    "id": "4y03todq_aqx"
   },
   "source": [
    "Now we have created the function it’s time to call it, passing the feature importance attribute array from the model, the feature names from our training dataset and also declaring the type of model for the title."
   ]
  },
  {
   "cell_type": "code",
   "execution_count": 231,
   "metadata": {
    "colab": {
     "base_uri": "https://localhost:8080/",
     "height": 513
    },
    "colab_type": "code",
    "id": "mARqPtSy_MYT",
    "outputId": "f9181041-62ea-436f-816a-a1bc8798536d"
   },
   "outputs": [
    {
     "data": {
      "image/png": "[encoded data removed]",
      "text/plain": [
       "<Figure size 720x576 with 1 Axes>"
      ]
     },
     "metadata": {
      "needs_background": "light",
      "tags": []
     },
     "output_type": "display_data"
    }
   ],
   "source": [
    "plot_feature_importance(rfr_val.feature_importances_,X_train.columns,'RANDOM FOREST')"
   ]
  },
  {
   "cell_type": "markdown",
   "metadata": {
    "colab_type": "text",
    "id": "E51O4K5o_ZK3"
   },
   "source": [
    "A brief summary of our top important features in explaining sales;\n",
    "\n",
    "**Competitor Distance**: This indeed impacts a lot the sales of a store .This was also seen in the analysis earlier that when competition is very far stores tend to sell a lot more.\n",
    "\n",
    "**Promo**: Promotion is fundamental for a store to increase its sales, it allows price reduction which attracts more customers\n",
    "\n",
    "**Store**: The Store itself represents a unique identificator for the algorithm to recognise which store has what attributes and indeed better accounts for the forecasting of those same stores in a future timeline."
   ]
  },
  {
   "cell_type": "markdown",
   "metadata": {
    "colab_type": "text",
    "id": "5vzRm3Nc80kT"
   },
   "source": [
    "Training XGboost Model"
   ]
  },
  {
   "cell_type": "code",
   "execution_count": 221,
   "metadata": {
    "colab": {},
    "colab_type": "code",
    "id": "gDfhRUuC6jCK"
   },
   "outputs": [],
   "source": [
    "import xgboost as xgb\n",
    "xg_reg = xgb.XGBRegressor(objective ='reg:linear', colsample_bytree = 0.3, learning_rate = 0.1,\n",
    "                max_depth = 5, alpha = 10, n_estimators = 10)"
   ]
  },
  {
   "cell_type": "code",
   "execution_count": 222,
   "metadata": {
    "colab": {
     "base_uri": "https://localhost:8080/",
     "height": 153
    },
    "colab_type": "code",
    "id": "VIPWUVad6i9L",
    "outputId": "5e837c51-abec-48fd-b66f-c3df394cc3bf"
   },
   "outputs": [
    {
     "name": "stdout",
     "output_type": "stream",
     "text": [
      "[21:37:08] WARNING: /workspace/src/objective/regression_obj.cu:152: reg:linear is now deprecated in favor of reg:squarederror.\n"
     ]
    },
    {
     "data": {
      "text/plain": [
       "XGBRegressor(alpha=10, base_score=0.5, booster='gbtree', colsample_bylevel=1,\n",
       "             colsample_bynode=1, colsample_bytree=0.3, gamma=0,\n",
       "             importance_type='gain', learning_rate=0.1, max_delta_step=0,\n",
       "             max_depth=5, min_child_weight=1, missing=None, n_estimators=10,\n",
       "             n_jobs=1, nthread=None, objective='reg:linear', random_state=0,\n",
       "             reg_alpha=0, reg_lambda=1, scale_pos_weight=1, seed=None,\n",
       "             silent=None, subsample=1, verbosity=1)"
      ]
     },
     "execution_count": 222,
     "metadata": {
      "tags": []
     },
     "output_type": "execute_result"
    }
   ],
   "source": [
    "xg_reg.fit(X_train,y_train)"
   ]
  },
  {
   "cell_type": "code",
   "execution_count": 223,
   "metadata": {
    "colab": {
     "base_uri": "https://localhost:8080/",
     "height": 367
    },
    "colab_type": "code",
    "id": "-1H-2FZn6i4k",
    "outputId": "c110aeb3-f005-47ec-a877-437c39ea4c2c"
   },
   "outputs": [
    {
     "data": {
      "text/plain": [
       "(array([  571., 11546., 44122., 38926., 43170., 24528.,  5059.,   794.,\n",
       "           81.,    71.]),\n",
       " array([5.598688 , 5.672878 , 5.747068 , 5.8212576, 5.8954473, 5.969637 ,\n",
       "        6.043827 , 6.1180167, 6.1922064, 6.2663965, 6.340586 ],\n",
       "       dtype=float32),\n",
       " <a list of 10 Patch objects>)"
      ]
     },
     "execution_count": 223,
     "metadata": {
      "tags": []
     },
     "output_type": "execute_result"
    },
    {
     "data": {
      "image/png": "[encoded data removed]",
      "text/plain": [
       "<Figure size 432x288 with 1 Axes>"
      ]
     },
     "metadata": {
      "needs_background": "light",
      "tags": []
     },
     "output_type": "display_data"
    }
   ],
   "source": [
    "#prediciting and plotting the predictions\n",
    "preds = xg_reg.predict(X_train_test)\n",
    "plt.hist(preds)"
   ]
  },
  {
   "cell_type": "code",
   "execution_count": 225,
   "metadata": {
    "colab": {
     "base_uri": "https://localhost:8080/",
     "height": 35
    },
    "colab_type": "code",
    "id": "hcYVdOBz6iy0",
    "outputId": "30549ec5-be55-4ade-c401-b9f73de0bab1"
   },
   "outputs": [
    {
     "data": {
      "application/vnd.google.colaboratory.intrinsic+json": {
       "type": "string"
      },
      "text/plain": [
       "'The number is 2.905'"
      ]
     },
     "execution_count": 225,
     "metadata": {
      "tags": []
     },
     "output_type": "execute_result"
    }
   ],
   "source": [
    "error1=rmspe(y_train_test,preds)\n",
    "\n",
    "f\"The number is {error1:.3f}\""
   ]
  },
  {
   "cell_type": "markdown",
   "metadata": {
    "colab_type": "text",
    "id": "v-rZL1Qj8sZ0"
   },
   "source": [
    " when looking the loss function of the two models it is \n",
    " Clearly seen that The Random regressor model perfom better with an error of **0.1611521960** whereas  XGBoost has a big error of **2.91**. "
   ]
  },
  {
   "cell_type": "markdown",
   "metadata": {
    "colab_type": "text",
    "id": "d6Iwu_rq6sFE"
   },
   "source": [
    "To serve the models we built above, we need to serialize them so as to be able totrack predictions from various models."
   ]
  },
  {
   "cell_type": "code",
   "execution_count": null,
   "metadata": {
    "colab": {},
    "colab_type": "code",
    "id": "UHsUctYC9lxa"
   },
   "outputs": [],
   "source": [
    "import pickle\n",
    "# Saving model to disk\n",
    "pickle.dump(rfr_val, open('21-8-2020-13-57.pkl','wb'))"
   ]
  },
  {
   "cell_type": "code",
   "execution_count": null,
   "metadata": {
    "colab": {},
    "colab_type": "code",
    "id": "MNk_KoLq-Ezt"
   },
   "outputs": [],
   "source": [
    "# Loading model to compare the results\n",
    "model = pickle.load(open('21-8-2020-13-57','rb'))"
   ]
  }
 ],
 "metadata": {
  "colab": {
   "name": "Modelling-v001pipe.ipynb",
   "provenance": []
  },
  "kernelspec": {
   "display_name": "Python 3",
   "language": "python",
   "name": "python3"
  },
  "language_info": {
   "codemirror_mode": {
    "name": "ipython",
    "version": 3
   },
   "file_extension": ".py",
   "mimetype": "text/x-python",
   "name": "python",
   "nbconvert_exporter": "python",
   "pygments_lexer": "ipython3",
   "version": "3.7.4"
  }
 },
 "nbformat": 4,
 "nbformat_minor": 4
}
